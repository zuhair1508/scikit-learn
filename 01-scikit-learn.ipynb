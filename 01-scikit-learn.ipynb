{
 "cells": [
  {
   "cell_type": "markdown",
   "metadata": {},
   "source": [
    "Use the right version, since load_boston dataset posed ethical concerns, so it was removed"
   ]
  },
  {
   "cell_type": "code",
   "execution_count": 12,
   "metadata": {},
   "outputs": [
    {
     "name": "stdout",
     "output_type": "stream",
     "text": [
      "Collecting scikit-learn==0.23.0Note: you may need to restart the kernel to use updated packages.\n",
      "\n",
      "  Using cached scikit-learn-0.23.0.tar.gz (7.2 MB)\n",
      "  Installing build dependencies: started\n",
      "  Installing build dependencies: finished with status 'error'\n"
     ]
    },
    {
     "name": "stderr",
     "output_type": "stream",
     "text": [
      "  error: subprocess-exited-with-error\n",
      "  \n",
      "  × pip subprocess to install build dependencies did not run successfully.\n",
      "  │ exit code: 1\n",
      "  ╰─> [340 lines of output]\n",
      "      Ignoring numpy: markers 'python_version == \"3.6\" and platform_system != \"AIX\"' don't match your environment\n",
      "      Ignoring numpy: markers 'python_version == \"3.7\" and platform_system != \"AIX\"' don't match your environment\n",
      "      Ignoring numpy: markers 'python_version == \"3.6\" and platform_system == \"AIX\"' don't match your environment\n",
      "      Ignoring numpy: markers 'python_version == \"3.7\" and platform_system == \"AIX\"' don't match your environment\n",
      "      Ignoring numpy: markers 'python_version >= \"3.8\" and platform_system == \"AIX\"' don't match your environment\n",
      "      Collecting setuptools\n",
      "        Using cached setuptools-71.1.0-py3-none-any.whl.metadata (6.6 kB)\n",
      "      Collecting wheel\n",
      "        Using cached wheel-0.43.0-py3-none-any.whl.metadata (2.2 kB)\n",
      "      Collecting Cython>=0.28.5\n",
      "        Using cached Cython-3.0.10-cp312-cp312-win_amd64.whl.metadata (3.2 kB)\n",
      "      Collecting numpy==1.17.3\n",
      "        Using cached numpy-1.17.3.zip (6.4 MB)\n",
      "        Installing build dependencies: started\n",
      "        Installing build dependencies: finished with status 'done'\n",
      "        Getting requirements to build wheel: started\n",
      "        Getting requirements to build wheel: finished with status 'done'\n",
      "        Preparing metadata (pyproject.toml): started\n",
      "        Preparing metadata (pyproject.toml): finished with status 'error'\n",
      "        error: subprocess-exited-with-error\n",
      "      \n",
      "        Ã— Preparing metadata (pyproject.toml) did not run successfully.\n",
      "        â”‚ exit code: 1\n",
      "        â•°â”€> [303 lines of output]\n",
      "            Running from numpy source directory.\n",
      "            <string>:418: UserWarning: Unrecognized setuptools command, proceeding with generating Cython sources and expanding templates\n",
      "            blas_opt_info:\n",
      "            blas_mkl_info:\n",
      "            No module named 'numpy.distutils._msvccompiler' in numpy.distutils; trying from distutils\n",
      "            customize MSVCCompiler\n",
      "              libraries mkl_rt not found in ['c:\\\\Users\\\\Amirah\\\\Python_Projects\\\\scikit-learn\\\\.venv\\\\lib', 'C:\\\\']\n",
      "              NOT AVAILABLE\n",
      "      \n",
      "            blis_info:\n",
      "            No module named 'numpy.distutils._msvccompiler' in numpy.distutils; trying from distutils\n",
      "            customize MSVCCompiler\n",
      "              libraries blis not found in ['c:\\\\Users\\\\Amirah\\\\Python_Projects\\\\scikit-learn\\\\.venv\\\\lib', 'C:\\\\']\n",
      "              NOT AVAILABLE\n",
      "      \n",
      "            openblas_info:\n",
      "            No module named 'numpy.distutils._msvccompiler' in numpy.distutils; trying from distutils\n",
      "            customize MSVCCompiler\n",
      "            No module named 'numpy.distutils._msvccompiler' in numpy.distutils; trying from distutils\n",
      "            customize MSVCCompiler\n",
      "              libraries openblas not found in ['c:\\\\Users\\\\Amirah\\\\Python_Projects\\\\scikit-learn\\\\.venv\\\\lib', 'C:\\\\']\n",
      "            get_default_fcompiler: matching types: '['gnu', 'intelv', 'absoft', 'compaqv', 'intelev', 'gnu95', 'g95', 'intelvem', 'intelem', 'flang']'\n",
      "            customize GnuFCompiler\n",
      "            Could not locate executable g77\n",
      "            Could not locate executable f77\n",
      "            customize IntelVisualFCompiler\n",
      "            Could not locate executable ifort\n",
      "            Could not locate executable ifl\n",
      "            customize AbsoftFCompiler\n",
      "            Could not locate executable f90\n",
      "            customize CompaqVisualFCompiler\n",
      "            Could not locate executable DF\n",
      "            customize IntelItaniumVisualFCompiler\n",
      "            Could not locate executable efl\n",
      "            customize Gnu95FCompiler\n",
      "            Could not locate executable gfortran\n",
      "            Could not locate executable f95\n",
      "            customize G95FCompiler\n",
      "            Could not locate executable g95\n",
      "            customize IntelEM64VisualFCompiler\n",
      "            customize IntelEM64TFCompiler\n",
      "            Could not locate executable efort\n",
      "            Could not locate executable efc\n",
      "            customize PGroupFlangCompiler\n",
      "            Could not locate executable flang\n",
      "            don't know how to compile Fortran code on platform 'nt'\n",
      "              NOT AVAILABLE\n",
      "      \n",
      "            atlas_3_10_blas_threads_info:\n",
      "            Setting PTATLAS=ATLAS\n",
      "            No module named 'numpy.distutils._msvccompiler' in numpy.distutils; trying from distutils\n",
      "            customize MSVCCompiler\n",
      "              libraries tatlas not found in ['c:\\\\Users\\\\Amirah\\\\Python_Projects\\\\scikit-learn\\\\.venv\\\\lib', 'C:\\\\']\n",
      "              NOT AVAILABLE\n",
      "      \n",
      "            atlas_3_10_blas_info:\n",
      "            No module named 'numpy.distutils._msvccompiler' in numpy.distutils; trying from distutils\n",
      "            customize MSVCCompiler\n",
      "              libraries satlas not found in ['c:\\\\Users\\\\Amirah\\\\Python_Projects\\\\scikit-learn\\\\.venv\\\\lib', 'C:\\\\']\n",
      "              NOT AVAILABLE\n",
      "      \n",
      "            atlas_blas_threads_info:\n",
      "            Setting PTATLAS=ATLAS\n",
      "            No module named 'numpy.distutils._msvccompiler' in numpy.distutils; trying from distutils\n",
      "            customize MSVCCompiler\n",
      "              libraries ptf77blas,ptcblas,atlas not found in ['c:\\\\Users\\\\Amirah\\\\Python_Projects\\\\scikit-learn\\\\.venv\\\\lib', 'C:\\\\']\n",
      "              NOT AVAILABLE\n",
      "      \n",
      "            atlas_blas_info:\n",
      "            No module named 'numpy.distutils._msvccompiler' in numpy.distutils; trying from distutils\n",
      "            customize MSVCCompiler\n",
      "              libraries f77blas,cblas,atlas not found in ['c:\\\\Users\\\\Amirah\\\\Python_Projects\\\\scikit-learn\\\\.venv\\\\lib', 'C:\\\\']\n",
      "              NOT AVAILABLE\n",
      "      \n",
      "            accelerate_info:\n",
      "              NOT AVAILABLE\n",
      "      \n",
      "            C:\\Users\\Amirah\\AppData\\Local\\Temp\\pip-install-lw8zggec\\numpy_a77768fb243c49689ec7f7297e25957a\\numpy\\distutils\\system_info.py:690: UserWarning:\n",
      "                Optimized (vendor) Blas libraries are not found.\n",
      "                Falls back to netlib Blas library which has worse performance.\n",
      "                A better performance should be easily gained by switching\n",
      "                Blas library.\n",
      "              self.calc_info()\n",
      "            blas_info:\n",
      "            No module named 'numpy.distutils._msvccompiler' in numpy.distutils; trying from distutils\n",
      "            customize MSVCCompiler\n",
      "              libraries blas not found in ['c:\\\\Users\\\\Amirah\\\\Python_Projects\\\\scikit-learn\\\\.venv\\\\lib', 'C:\\\\']\n",
      "              NOT AVAILABLE\n",
      "      \n",
      "            C:\\Users\\Amirah\\AppData\\Local\\Temp\\pip-install-lw8zggec\\numpy_a77768fb243c49689ec7f7297e25957a\\numpy\\distutils\\system_info.py:690: UserWarning:\n",
      "                Blas (http://www.netlib.org/blas/) libraries not found.\n",
      "                Directories to search for the libraries can be specified in the\n",
      "                numpy/distutils/site.cfg file (section [blas]) or by setting\n",
      "                the BLAS environment variable.\n",
      "              self.calc_info()\n",
      "            blas_src_info:\n",
      "              NOT AVAILABLE\n",
      "      \n",
      "            C:\\Users\\Amirah\\AppData\\Local\\Temp\\pip-install-lw8zggec\\numpy_a77768fb243c49689ec7f7297e25957a\\numpy\\distutils\\system_info.py:690: UserWarning:\n",
      "                Blas (http://www.netlib.org/blas/) sources not found.\n",
      "                Directories to search for the sources can be specified in the\n",
      "                numpy/distutils/site.cfg file (section [blas_src]) or by setting\n",
      "                the BLAS_SRC environment variable.\n",
      "              self.calc_info()\n",
      "              NOT AVAILABLE\n",
      "      \n",
      "            'svnversion' is not recognized as an internal or external command,\n",
      "            operable program or batch file.\n",
      "            non-existing path in 'numpy\\\\distutils': 'site.cfg'\n",
      "            lapack_opt_info:\n",
      "            lapack_mkl_info:\n",
      "            No module named 'numpy.distutils._msvccompiler' in numpy.distutils; trying from distutils\n",
      "            customize MSVCCompiler\n",
      "              libraries mkl_rt not found in ['c:\\\\Users\\\\Amirah\\\\Python_Projects\\\\scikit-learn\\\\.venv\\\\lib', 'C:\\\\']\n",
      "              NOT AVAILABLE\n",
      "      \n",
      "            openblas_lapack_info:\n",
      "            No module named 'numpy.distutils._msvccompiler' in numpy.distutils; trying from distutils\n",
      "            customize MSVCCompiler\n",
      "            No module named 'numpy.distutils._msvccompiler' in numpy.distutils; trying from distutils\n",
      "            customize MSVCCompiler\n",
      "              libraries openblas not found in ['c:\\\\Users\\\\Amirah\\\\Python_Projects\\\\scikit-learn\\\\.venv\\\\lib', 'C:\\\\']\n",
      "              NOT AVAILABLE\n",
      "      \n",
      "            openblas_clapack_info:\n",
      "            No module named 'numpy.distutils._msvccompiler' in numpy.distutils; trying from distutils\n",
      "            customize MSVCCompiler\n",
      "            No module named 'numpy.distutils._msvccompiler' in numpy.distutils; trying from distutils\n",
      "            customize MSVCCompiler\n",
      "              libraries openblas,lapack not found in ['c:\\\\Users\\\\Amirah\\\\Python_Projects\\\\scikit-learn\\\\.venv\\\\lib', 'C:\\\\']\n",
      "              NOT AVAILABLE\n",
      "      \n",
      "            flame_info:\n",
      "            No module named 'numpy.distutils._msvccompiler' in numpy.distutils; trying from distutils\n",
      "            customize MSVCCompiler\n",
      "              libraries flame not found in ['c:\\\\Users\\\\Amirah\\\\Python_Projects\\\\scikit-learn\\\\.venv\\\\lib', 'C:\\\\']\n",
      "              NOT AVAILABLE\n",
      "      \n",
      "            atlas_3_10_threads_info:\n",
      "            Setting PTATLAS=ATLAS\n",
      "            No module named 'numpy.distutils._msvccompiler' in numpy.distutils; trying from distutils\n",
      "            customize MSVCCompiler\n",
      "              libraries lapack_atlas not found in c:\\Users\\Amirah\\Python_Projects\\scikit-learn\\.venv\\lib\n",
      "            No module named 'numpy.distutils._msvccompiler' in numpy.distutils; trying from distutils\n",
      "            customize MSVCCompiler\n",
      "              libraries tatlas,tatlas not found in c:\\Users\\Amirah\\Python_Projects\\scikit-learn\\.venv\\lib\n",
      "            No module named 'numpy.distutils._msvccompiler' in numpy.distutils; trying from distutils\n",
      "            customize MSVCCompiler\n",
      "              libraries lapack_atlas not found in C:\\\n",
      "            No module named 'numpy.distutils._msvccompiler' in numpy.distutils; trying from distutils\n",
      "            customize MSVCCompiler\n",
      "              libraries tatlas,tatlas not found in C:\\\n",
      "            <class 'numpy.distutils.system_info.atlas_3_10_threads_info'>\n",
      "              NOT AVAILABLE\n",
      "      \n",
      "            atlas_3_10_info:\n",
      "            No module named 'numpy.distutils._msvccompiler' in numpy.distutils; trying from distutils\n",
      "            customize MSVCCompiler\n",
      "              libraries lapack_atlas not found in c:\\Users\\Amirah\\Python_Projects\\scikit-learn\\.venv\\lib\n",
      "            No module named 'numpy.distutils._msvccompiler' in numpy.distutils; trying from distutils\n",
      "            customize MSVCCompiler\n",
      "              libraries satlas,satlas not found in c:\\Users\\Amirah\\Python_Projects\\scikit-learn\\.venv\\lib\n",
      "            No module named 'numpy.distutils._msvccompiler' in numpy.distutils; trying from distutils\n",
      "            customize MSVCCompiler\n",
      "              libraries lapack_atlas not found in C:\\\n",
      "            No module named 'numpy.distutils._msvccompiler' in numpy.distutils; trying from distutils\n",
      "            customize MSVCCompiler\n",
      "              libraries satlas,satlas not found in C:\\\n",
      "            <class 'numpy.distutils.system_info.atlas_3_10_info'>\n",
      "              NOT AVAILABLE\n",
      "      \n",
      "            atlas_threads_info:\n",
      "            Setting PTATLAS=ATLAS\n",
      "            No module named 'numpy.distutils._msvccompiler' in numpy.distutils; trying from distutils\n",
      "            customize MSVCCompiler\n",
      "              libraries lapack_atlas not found in c:\\Users\\Amirah\\Python_Projects\\scikit-learn\\.venv\\lib\n",
      "            No module named 'numpy.distutils._msvccompiler' in numpy.distutils; trying from distutils\n",
      "            customize MSVCCompiler\n",
      "              libraries ptf77blas,ptcblas,atlas not found in c:\\Users\\Amirah\\Python_Projects\\scikit-learn\\.venv\\lib\n",
      "            No module named 'numpy.distutils._msvccompiler' in numpy.distutils; trying from distutils\n",
      "            customize MSVCCompiler\n",
      "              libraries lapack_atlas not found in C:\\\n",
      "            No module named 'numpy.distutils._msvccompiler' in numpy.distutils; trying from distutils\n",
      "            customize MSVCCompiler\n",
      "              libraries ptf77blas,ptcblas,atlas not found in C:\\\n",
      "            <class 'numpy.distutils.system_info.atlas_threads_info'>\n",
      "              NOT AVAILABLE\n",
      "      \n",
      "            atlas_info:\n",
      "            No module named 'numpy.distutils._msvccompiler' in numpy.distutils; trying from distutils\n",
      "            customize MSVCCompiler\n",
      "              libraries lapack_atlas not found in c:\\Users\\Amirah\\Python_Projects\\scikit-learn\\.venv\\lib\n",
      "            No module named 'numpy.distutils._msvccompiler' in numpy.distutils; trying from distutils\n",
      "            customize MSVCCompiler\n",
      "              libraries f77blas,cblas,atlas not found in c:\\Users\\Amirah\\Python_Projects\\scikit-learn\\.venv\\lib\n",
      "            No module named 'numpy.distutils._msvccompiler' in numpy.distutils; trying from distutils\n",
      "            customize MSVCCompiler\n",
      "              libraries lapack_atlas not found in C:\\\n",
      "            No module named 'numpy.distutils._msvccompiler' in numpy.distutils; trying from distutils\n",
      "            customize MSVCCompiler\n",
      "              libraries f77blas,cblas,atlas not found in C:\\\n",
      "            <class 'numpy.distutils.system_info.atlas_info'>\n",
      "              NOT AVAILABLE\n",
      "      \n",
      "            lapack_info:\n",
      "            No module named 'numpy.distutils._msvccompiler' in numpy.distutils; trying from distutils\n",
      "            customize MSVCCompiler\n",
      "              libraries lapack not found in ['c:\\\\Users\\\\Amirah\\\\Python_Projects\\\\scikit-learn\\\\.venv\\\\lib', 'C:\\\\']\n",
      "              NOT AVAILABLE\n",
      "      \n",
      "            C:\\Users\\Amirah\\AppData\\Local\\Temp\\pip-install-lw8zggec\\numpy_a77768fb243c49689ec7f7297e25957a\\numpy\\distutils\\system_info.py:1712: UserWarning:\n",
      "                Lapack (http://www.netlib.org/lapack/) libraries not found.\n",
      "                Directories to search for the libraries can be specified in the\n",
      "                numpy/distutils/site.cfg file (section [lapack]) or by setting\n",
      "                the LAPACK environment variable.\n",
      "              if getattr(self, '_calc_info_{}'.format(lapack))():\n",
      "            lapack_src_info:\n",
      "              NOT AVAILABLE\n",
      "      \n",
      "            C:\\Users\\Amirah\\AppData\\Local\\Temp\\pip-install-lw8zggec\\numpy_a77768fb243c49689ec7f7297e25957a\\numpy\\distutils\\system_info.py:1712: UserWarning:\n",
      "                Lapack (http://www.netlib.org/lapack/) sources not found.\n",
      "                Directories to search for the sources can be specified in the\n",
      "                numpy/distutils/site.cfg file (section [lapack_src]) or by setting\n",
      "                the LAPACK_SRC environment variable.\n",
      "              if getattr(self, '_calc_info_{}'.format(lapack))():\n",
      "              NOT AVAILABLE\n",
      "      \n",
      "            C:\\Users\\Amirah\\AppData\\Local\\Temp\\pip-build-env-k5pkv5az\\overlay\\Lib\\site-packages\\setuptools\\_distutils\\dist.py:268: UserWarning: Unknown distribution option: 'define_macros'\n",
      "              warnings.warn(msg)\n",
      "            running dist_info\n",
      "            running build_src\n",
      "            build_src\n",
      "            building py_modules sources\n",
      "            creating build\n",
      "            creating build\\src.win-amd64-3.1\n",
      "            creating build\\src.win-amd64-3.1\\numpy\n",
      "            creating build\\src.win-amd64-3.1\\numpy\\distutils\n",
      "            building library \"npymath\" sources\n",
      "            No module named 'numpy.distutils._msvccompiler' in numpy.distutils; trying from distutils\n",
      "            C:\\Users\\Amirah\\AppData\\Local\\Temp\\pip-build-env-k5pkv5az\\overlay\\Lib\\site-packages\\setuptools\\_distutils\\_msvccompiler.py:535: UserWarning: Fallback spawn triggered. Please update distutils monkeypatch.\n",
      "              warnings.warn(\"Fallback spawn triggered. Please update distutils monkeypatch.\")\n",
      "            C:\\Program Files (x86)\\Microsoft Visual Studio\\2022\\BuildTools\\VC\\Tools\\MSVC\\14.37.32822\\bin\\HostX86\\x64\\cl.exe /c /nologo /O2 /W3 /GL /DNDEBUG /MD -Inumpy\\core\\src\\common -Inumpy\\core\\src -Inumpy\\core -Inumpy\\core\\src\\npymath -Inumpy\\core\\src\\multiarray -Inumpy\\core\\src\\umath -Inumpy\\core\\src\\npysort -Ic:\\Users\\Amirah\\Python_Projects\\scikit-learn\\.venv\\include -IC:\\Python312\\include -IC:\\Python312\\Include -IC:\\Program Files (x86)\\Microsoft Visual Studio\\2022\\BuildTools\\VC\\Tools\\MSVC\\14.37.32822\\include -IC:\\Program Files (x86)\\Microsoft Visual Studio\\2022\\BuildTools\\VC\\Tools\\MSVC\\14.37.32822\\ATLMFC\\include -IC:\\Program Files (x86)\\Microsoft Visual Studio\\2022\\BuildTools\\VC\\Auxiliary\\VS\\include -IC:\\Program Files (x86)\\Windows Kits\\10\\include\\10.0.10240.0\\ucrt -IC:\\Program Files (x86)\\Windows Kits\\NETFXSDK\\4.8\\include\\um /Tc_configtest.c /Fo_configtest.obj\n",
      "            C:\\Program Files (x86)\\Microsoft Visual Studio\\2022\\BuildTools\\VC\\Tools\\MSVC\\14.37.32822\\bin\\HostX86\\x64\\link.exe /nologo /INCREMENTAL:NO /LTCG /MANIFEST:EMBED,ID=1 /LIBPATH:C:\\Program Files (x86)\\Microsoft Visual Studio\\2022\\BuildTools\\VC\\Tools\\MSVC\\14.37.32822\\ATLMFC\\lib\\x64 /LIBPATH:C:\\Program Files (x86)\\Microsoft Visual Studio\\2022\\BuildTools\\VC\\Tools\\MSVC\\14.37.32822\\lib\\x64 /LIBPATH:C:\\Program Files (x86)\\Windows Kits\\NETFXSDK\\4.8\\lib\\um\\x64 /LIBPATH:C:\\Program Files (x86)\\Windows Kits\\10\\lib\\10.0.10240.0\\ucrt\\x64 _configtest.obj /OUT:_configtest.exe\n",
      "            LINK : fatal error LNK1104: cannot open file 'kernel32.lib'\n",
      "            failure.\n",
      "            removing: _configtest.c _configtest.obj _configtest.obj.d\n",
      "            Traceback (most recent call last):\n",
      "              File \"C:\\Users\\Amirah\\Python_Projects\\scikit-learn\\.venv\\Lib\\site-packages\\pip\\_vendor\\pyproject_hooks\\_in_process\\_in_process.py\", line 353, in <module>\n",
      "                main()\n",
      "              File \"C:\\Users\\Amirah\\Python_Projects\\scikit-learn\\.venv\\Lib\\site-packages\\pip\\_vendor\\pyproject_hooks\\_in_process\\_in_process.py\", line 335, in main\n",
      "                json_out['return_val'] = hook(**hook_input['kwargs'])\n",
      "                                         ^^^^^^^^^^^^^^^^^^^^^^^^^^^^\n",
      "              File \"C:\\Users\\Amirah\\Python_Projects\\scikit-learn\\.venv\\Lib\\site-packages\\pip\\_vendor\\pyproject_hooks\\_in_process\\_in_process.py\", line 149, in prepare_metadata_for_build_wheel\n",
      "                return hook(metadata_directory, config_settings)\n",
      "                       ^^^^^^^^^^^^^^^^^^^^^^^^^^^^^^^^^^^^^^^^^\n",
      "              File \"C:\\Users\\Amirah\\AppData\\Local\\Temp\\pip-build-env-k5pkv5az\\overlay\\Lib\\site-packages\\setuptools\\build_meta.py\", line 368, in prepare_metadata_for_build_wheel\n",
      "                self.run_setup()\n",
      "              File \"C:\\Users\\Amirah\\AppData\\Local\\Temp\\pip-build-env-k5pkv5az\\overlay\\Lib\\site-packages\\setuptools\\build_meta.py\", line 497, in run_setup\n",
      "                super().run_setup(setup_script=setup_script)\n",
      "              File \"C:\\Users\\Amirah\\AppData\\Local\\Temp\\pip-build-env-k5pkv5az\\overlay\\Lib\\site-packages\\setuptools\\build_meta.py\", line 313, in run_setup\n",
      "                exec(code, locals())\n",
      "              File \"<string>\", line 443, in <module>\n",
      "              File \"<string>\", line 435, in setup_package\n",
      "              File \"C:\\Users\\Amirah\\AppData\\Local\\Temp\\pip-install-lw8zggec\\numpy_a77768fb243c49689ec7f7297e25957a\\numpy\\distutils\\core.py\", line 171, in setup\n",
      "                return old_setup(**new_attr)\n",
      "                       ^^^^^^^^^^^^^^^^^^^^^\n",
      "              File \"C:\\Users\\Amirah\\AppData\\Local\\Temp\\pip-build-env-k5pkv5az\\overlay\\Lib\\site-packages\\setuptools\\__init__.py\", line 108, in setup\n",
      "                return distutils.core.setup(**attrs)\n",
      "                       ^^^^^^^^^^^^^^^^^^^^^^^^^^^^^\n",
      "              File \"C:\\Users\\Amirah\\AppData\\Local\\Temp\\pip-build-env-k5pkv5az\\overlay\\Lib\\site-packages\\setuptools\\_distutils\\core.py\", line 184, in setup\n",
      "                return run_commands(dist)\n",
      "                       ^^^^^^^^^^^^^^^^^^\n",
      "              File \"C:\\Users\\Amirah\\AppData\\Local\\Temp\\pip-build-env-k5pkv5az\\overlay\\Lib\\site-packages\\setuptools\\_distutils\\core.py\", line 200, in run_commands\n",
      "                dist.run_commands()\n",
      "              File \"C:\\Users\\Amirah\\AppData\\Local\\Temp\\pip-build-env-k5pkv5az\\overlay\\Lib\\site-packages\\setuptools\\_distutils\\dist.py\", line 970, in run_commands\n",
      "                self.run_command(cmd)\n",
      "              File \"C:\\Users\\Amirah\\AppData\\Local\\Temp\\pip-build-env-k5pkv5az\\overlay\\Lib\\site-packages\\setuptools\\dist.py\", line 956, in run_command\n",
      "                super().run_command(command)\n",
      "              File \"C:\\Users\\Amirah\\AppData\\Local\\Temp\\pip-build-env-k5pkv5az\\overlay\\Lib\\site-packages\\setuptools\\_distutils\\dist.py\", line 989, in run_command\n",
      "                cmd_obj.run()\n",
      "              File \"C:\\Users\\Amirah\\AppData\\Local\\Temp\\pip-build-env-k5pkv5az\\overlay\\Lib\\site-packages\\setuptools\\command\\dist_info.py\", line 92, in run\n",
      "                self.egg_info.run()\n",
      "              File \"C:\\Users\\Amirah\\AppData\\Local\\Temp\\pip-install-lw8zggec\\numpy_a77768fb243c49689ec7f7297e25957a\\numpy\\distutils\\command\\egg_info.py\", line 26, in run\n",
      "                self.run_command(\"build_src\")\n",
      "              File \"C:\\Users\\Amirah\\AppData\\Local\\Temp\\pip-build-env-k5pkv5az\\overlay\\Lib\\site-packages\\setuptools\\_distutils\\cmd.py\", line 316, in run_command\n",
      "                self.distribution.run_command(command)\n",
      "              File \"C:\\Users\\Amirah\\AppData\\Local\\Temp\\pip-build-env-k5pkv5az\\overlay\\Lib\\site-packages\\setuptools\\dist.py\", line 956, in run_command\n",
      "                super().run_command(command)\n",
      "              File \"C:\\Users\\Amirah\\AppData\\Local\\Temp\\pip-build-env-k5pkv5az\\overlay\\Lib\\site-packages\\setuptools\\_distutils\\dist.py\", line 989, in run_command\n",
      "                cmd_obj.run()\n",
      "              File \"C:\\Users\\Amirah\\AppData\\Local\\Temp\\pip-install-lw8zggec\\numpy_a77768fb243c49689ec7f7297e25957a\\numpy\\distutils\\command\\build_src.py\", line 142, in run\n",
      "                self.build_sources()\n",
      "              File \"C:\\Users\\Amirah\\AppData\\Local\\Temp\\pip-install-lw8zggec\\numpy_a77768fb243c49689ec7f7297e25957a\\numpy\\distutils\\command\\build_src.py\", line 153, in build_sources\n",
      "                self.build_library_sources(*libname_info)\n",
      "              File \"C:\\Users\\Amirah\\AppData\\Local\\Temp\\pip-install-lw8zggec\\numpy_a77768fb243c49689ec7f7297e25957a\\numpy\\distutils\\command\\build_src.py\", line 286, in build_library_sources\n",
      "                sources = self.generate_sources(sources, (lib_name, build_info))\n",
      "                          ^^^^^^^^^^^^^^^^^^^^^^^^^^^^^^^^^^^^^^^^^^^^^^^^^^^^^^\n",
      "              File \"C:\\Users\\Amirah\\AppData\\Local\\Temp\\pip-install-lw8zggec\\numpy_a77768fb243c49689ec7f7297e25957a\\numpy\\distutils\\command\\build_src.py\", line 369, in generate_sources\n",
      "                source = func(extension, build_dir)\n",
      "                         ^^^^^^^^^^^^^^^^^^^^^^^^^^\n",
      "              File \"numpy\\core\\setup.py\", line 669, in get_mathlib_info\n",
      "                raise RuntimeError(\"Broken toolchain: cannot link a simple C program\")\n",
      "            RuntimeError: Broken toolchain: cannot link a simple C program\n",
      "            [end of output]\n",
      "      \n",
      "        note: This error originates from a subprocess, and is likely not a problem with pip.\n",
      "      error: metadata-generation-failed\n",
      "      \n",
      "      Ã— Encountered error while generating package metadata.\n",
      "      â•°â”€> See above for output.\n",
      "      \n",
      "      note: This is an issue with the package mentioned above, not pip.\n",
      "      hint: See above for details.\n",
      "      \n",
      "      [notice] A new release of pip is available: 24.0 -> 24.1.2\n",
      "      [notice] To update, run: python.exe -m pip install --upgrade pip\n",
      "      [end of output]\n",
      "  \n",
      "  note: This error originates from a subprocess, and is likely not a problem with pip.\n",
      "error: subprocess-exited-with-error\n",
      "\n",
      "× pip subprocess to install build dependencies did not run successfully.\n",
      "│ exit code: 1\n",
      "╰─> See above for output.\n",
      "\n",
      "note: This error originates from a subprocess, and is likely not a problem with pip.\n",
      "\n",
      "[notice] A new release of pip is available: 24.0 -> 24.1.2\n",
      "[notice] To update, run: python.exe -m pip install --upgrade pip\n"
     ]
    }
   ],
   "source": [
    "%pip install --upgrade scikit-learn==0.23.0"
   ]
  },
  {
   "cell_type": "code",
   "execution_count": 13,
   "metadata": {},
   "outputs": [
    {
     "ename": "ImportError",
     "evalue": "\n`load_boston` has been removed from scikit-learn since version 1.2.\n\nThe Boston housing prices dataset has an ethical problem: as\ninvestigated in [1], the authors of this dataset engineered a\nnon-invertible variable \"B\" assuming that racial self-segregation had a\npositive impact on house prices [2]. Furthermore the goal of the\nresearch that led to the creation of this dataset was to study the\nimpact of air quality but it did not give adequate demonstration of the\nvalidity of this assumption.\n\nThe scikit-learn maintainers therefore strongly discourage the use of\nthis dataset unless the purpose of the code is to study and educate\nabout ethical issues in data science and machine learning.\n\nIn this special case, you can fetch the dataset from the original\nsource::\n\n    import pandas as pd\n    import numpy as np\n\n    data_url = \"http://lib.stat.cmu.edu/datasets/boston\"\n    raw_df = pd.read_csv(data_url, sep=\"\\s+\", skiprows=22, header=None)\n    data = np.hstack([raw_df.values[::2, :], raw_df.values[1::2, :2]])\n    target = raw_df.values[1::2, 2]\n\nAlternative datasets include the California housing dataset and the\nAmes housing dataset. You can load the datasets as follows::\n\n    from sklearn.datasets import fetch_california_housing\n    housing = fetch_california_housing()\n\nfor the California housing dataset and::\n\n    from sklearn.datasets import fetch_openml\n    housing = fetch_openml(name=\"house_prices\", as_frame=True)\n\nfor the Ames housing dataset.\n\n[1] M Carlisle.\n\"Racist data destruction?\"\n<https://medium.com/@docintangible/racist-data-destruction-113e3eff54a8>\n\n[2] Harrison Jr, David, and Daniel L. Rubinfeld.\n\"Hedonic housing prices and the demand for clean air.\"\nJournal of environmental economics and management 5.1 (1978): 81-102.\n<https://www.researchgate.net/publication/4974606_Hedonic_housing_prices_and_the_demand_for_clean_air>\n",
     "output_type": "error",
     "traceback": [
      "\u001b[1;31m---------------------------------------------------------------------------\u001b[0m",
      "\u001b[1;31mImportError\u001b[0m                               Traceback (most recent call last)",
      "Cell \u001b[1;32mIn[13], line 1\u001b[0m\n\u001b[1;32m----> 1\u001b[0m \u001b[38;5;28;01mfrom\u001b[39;00m \u001b[38;5;21;01msklearn\u001b[39;00m\u001b[38;5;21;01m.\u001b[39;00m\u001b[38;5;21;01mdatasets\u001b[39;00m \u001b[38;5;28;01mimport\u001b[39;00m load_boston\n\u001b[0;32m      2\u001b[0m X, y \u001b[38;5;241m=\u001b[39m load_boston(return_X_y\u001b[38;5;241m=\u001b[39m\u001b[38;5;28;01mTrue\u001b[39;00m)\n",
      "File \u001b[1;32mc:\\Users\\Amirah\\Python_Projects\\scikit-learn\\.venv\\Lib\\site-packages\\sklearn\\datasets\\__init__.py:156\u001b[0m, in \u001b[0;36m__getattr__\u001b[1;34m(name)\u001b[0m\n\u001b[0;32m    105\u001b[0m \u001b[38;5;28;01mif\u001b[39;00m name \u001b[38;5;241m==\u001b[39m \u001b[38;5;124m\"\u001b[39m\u001b[38;5;124mload_boston\u001b[39m\u001b[38;5;124m\"\u001b[39m:\n\u001b[0;32m    106\u001b[0m     msg \u001b[38;5;241m=\u001b[39m textwrap\u001b[38;5;241m.\u001b[39mdedent(\n\u001b[0;32m    107\u001b[0m \u001b[38;5;250m        \u001b[39m\u001b[38;5;124;03m\"\"\"\u001b[39;00m\n\u001b[0;32m    108\u001b[0m \u001b[38;5;124;03m        `load_boston` has been removed from scikit-learn since version 1.2.\u001b[39;00m\n\u001b[1;32m   (...)\u001b[0m\n\u001b[0;32m    154\u001b[0m \u001b[38;5;124;03m        \"\"\"\u001b[39;00m\n\u001b[0;32m    155\u001b[0m     )\n\u001b[1;32m--> 156\u001b[0m     \u001b[38;5;28;01mraise\u001b[39;00m \u001b[38;5;167;01mImportError\u001b[39;00m(msg)\n\u001b[0;32m    157\u001b[0m \u001b[38;5;28;01mtry\u001b[39;00m:\n\u001b[0;32m    158\u001b[0m     \u001b[38;5;28;01mreturn\u001b[39;00m \u001b[38;5;28mglobals\u001b[39m()[name]\n",
      "\u001b[1;31mImportError\u001b[0m: \n`load_boston` has been removed from scikit-learn since version 1.2.\n\nThe Boston housing prices dataset has an ethical problem: as\ninvestigated in [1], the authors of this dataset engineered a\nnon-invertible variable \"B\" assuming that racial self-segregation had a\npositive impact on house prices [2]. Furthermore the goal of the\nresearch that led to the creation of this dataset was to study the\nimpact of air quality but it did not give adequate demonstration of the\nvalidity of this assumption.\n\nThe scikit-learn maintainers therefore strongly discourage the use of\nthis dataset unless the purpose of the code is to study and educate\nabout ethical issues in data science and machine learning.\n\nIn this special case, you can fetch the dataset from the original\nsource::\n\n    import pandas as pd\n    import numpy as np\n\n    data_url = \"http://lib.stat.cmu.edu/datasets/boston\"\n    raw_df = pd.read_csv(data_url, sep=\"\\s+\", skiprows=22, header=None)\n    data = np.hstack([raw_df.values[::2, :], raw_df.values[1::2, :2]])\n    target = raw_df.values[1::2, 2]\n\nAlternative datasets include the California housing dataset and the\nAmes housing dataset. You can load the datasets as follows::\n\n    from sklearn.datasets import fetch_california_housing\n    housing = fetch_california_housing()\n\nfor the California housing dataset and::\n\n    from sklearn.datasets import fetch_openml\n    housing = fetch_openml(name=\"house_prices\", as_frame=True)\n\nfor the Ames housing dataset.\n\n[1] M Carlisle.\n\"Racist data destruction?\"\n<https://medium.com/@docintangible/racist-data-destruction-113e3eff54a8>\n\n[2] Harrison Jr, David, and Daniel L. Rubinfeld.\n\"Hedonic housing prices and the demand for clean air.\"\nJournal of environmental economics and management 5.1 (1978): 81-102.\n<https://www.researchgate.net/publication/4974606_Hedonic_housing_prices_and_the_demand_for_clean_air>\n"
     ]
    }
   ],
   "source": [
    "from sklearn.datasets import load_boston\n",
    "X, y = load_boston(return_X_y=True)"
   ]
  },
  {
   "cell_type": "markdown",
   "metadata": {},
   "source": [
    "In case, the above method doesn't work. Use this alternative method to get the data"
   ]
  },
  {
   "cell_type": "code",
   "execution_count": 5,
   "metadata": {},
   "outputs": [
    {
     "name": "stderr",
     "output_type": "stream",
     "text": [
      "<>:5: SyntaxWarning: invalid escape sequence '\\s'\n",
      "<>:5: SyntaxWarning: invalid escape sequence '\\s'\n",
      "C:\\Users\\Amirah\\AppData\\Local\\Temp\\ipykernel_17620\\3257800236.py:5: SyntaxWarning: invalid escape sequence '\\s'\n",
      "  raw_df = pd.read_csv(data_url, sep=\"\\s+\", skiprows=22, header=None)\n"
     ]
    }
   ],
   "source": [
    "import pandas as pd\n",
    "import numpy as np\n",
    "\n",
    "data_url = \"http://lib.stat.cmu.edu/datasets/boston\"\n",
    "raw_df = pd.read_csv(data_url, sep=\"\\s+\", skiprows=22, header=None)\n",
    "data = np.hstack([raw_df.values[::2, :], raw_df.values[1::2, :2]])\n",
    "target = raw_df.values[1::2, 2]"
   ]
  },
  {
   "cell_type": "code",
   "execution_count": 19,
   "metadata": {},
   "outputs": [
    {
     "data": {
      "text/plain": [
       "(506, 13)"
      ]
     },
     "metadata": {},
     "output_type": "display_data"
    },
    {
     "data": {
      "text/plain": [
       "(506,)"
      ]
     },
     "metadata": {},
     "output_type": "display_data"
    }
   ],
   "source": [
    "# view the data\n",
    "display(data.shape)\n",
    "display(target.shape)"
   ]
  },
  {
   "cell_type": "markdown",
   "metadata": {},
   "source": [
    "We can apply the models."
   ]
  },
  {
   "cell_type": "code",
   "execution_count": 27,
   "metadata": {},
   "outputs": [
    {
     "data": {
      "text/plain": [
       "array([30.00384338, 25.02556238, 30.56759672])"
      ]
     },
     "execution_count": 27,
     "metadata": {},
     "output_type": "execute_result"
    }
   ],
   "source": [
    "from sklearn.neighbors import KNeighborsRegressor\n",
    "from sklearn.linear_model import LinearRegression\n",
    "\n",
    "mod = LinearRegression()\n",
    "mod.fit(data, target)\n",
    "mod.predict(data)[:3]"
   ]
  },
  {
   "cell_type": "code",
   "execution_count": 29,
   "metadata": {},
   "outputs": [
    {
     "data": {
      "text/plain": [
       "array([21.78, 22.9 , 25.36])"
      ]
     },
     "execution_count": 29,
     "metadata": {},
     "output_type": "execute_result"
    }
   ],
   "source": [
    "mod = KNeighborsRegressor()\n",
    "mod.fit(data, target)\n",
    "mod.predict(data)[:3]"
   ]
  },
  {
   "cell_type": "markdown",
   "metadata": {},
   "source": [
    "Maybe we should check the data"
   ]
  },
  {
   "cell_type": "code",
   "execution_count": 30,
   "metadata": {},
   "outputs": [
    {
     "data": {
      "text/plain": [
       "<matplotlib.collections.PathCollection at 0x291610d3a40>"
      ]
     },
     "execution_count": 30,
     "metadata": {},
     "output_type": "execute_result"
    },
    {
     "data": {
      "image/png": "[encoded data removed]",
      "text/plain": [
       "<Figure size 640x480 with 1 Axes>"
      ]
     },
     "metadata": {},
     "output_type": "display_data"
    }
   ],
   "source": [
    "import matplotlib.pyplot as plt\n",
    "\n",
    "mod = KNeighborsRegressor().fit(data, target)\n",
    "pred = mod.predict(data)\n",
    "plt.scatter(pred, target)"
   ]
  },
  {
   "cell_type": "markdown",
   "metadata": {},
   "source": [
    "Notice the scale of the x-axis and the y-axis are different. We can scale this."
   ]
  },
  {
   "cell_type": "markdown",
   "metadata": {},
   "source": [
    "Let's wrap it into a pipeline"
   ]
  },
  {
   "cell_type": "code",
   "execution_count": 31,
   "metadata": {},
   "outputs": [
    {
     "data": {
      "text/plain": [
       "<matplotlib.collections.PathCollection at 0x2916150edb0>"
      ]
     },
     "execution_count": 31,
     "metadata": {},
     "output_type": "execute_result"
    },
    {
     "data": {
      "image/png": "[encoded data removed]",
      "text/plain": [
       "<Figure size 640x480 with 1 Axes>"
      ]
     },
     "metadata": {},
     "output_type": "display_data"
    }
   ],
   "source": [
    "from sklearn.preprocessing import StandardScaler\n",
    "from sklearn.pipeline import Pipeline\n",
    "\n",
    "pipe = Pipeline([\n",
    "    (\"scale\", StandardScaler()),\n",
    "    (\"model\", KNeighborsRegressor())\n",
    "])\n",
    "pred = pipe.fit(data, target).predict(data)\n",
    "plt.scatter(pred, target)"
   ]
  },
  {
   "cell_type": "markdown",
   "metadata": {},
   "source": [
    "Let's apply some settings"
   ]
  },
  {
   "cell_type": "code",
   "execution_count": 36,
   "metadata": {},
   "outputs": [
    {
     "data": {
      "text/plain": [
       "<matplotlib.collections.PathCollection at 0x29161390da0>"
      ]
     },
     "execution_count": 36,
     "metadata": {},
     "output_type": "execute_result"
    },
    {
     "data": {
      "image/png": "[encoded data removed]",
      "text/plain": [
       "<Figure size 640x480 with 1 Axes>"
      ]
     },
     "metadata": {},
     "output_type": "display_data"
    }
   ],
   "source": [
    "from sklearn.preprocessing import StandardScaler\n",
    "from sklearn.pipeline import Pipeline\n",
    "\n",
    "# If n_neighbors = 1, we're predicting based on the closest neightbor (n=1), since we're testing using the same learning data, we're cheating and making a perfect prediction\n",
    "pipe = Pipeline([\n",
    "    (\"scale\", StandardScaler()),\n",
    "    (\"model\", KNeighborsRegressor(n_neighbors=1))\n",
    "])\n",
    "pred = pipe.fit(data, target).predict(data)\n",
    "plt.scatter(pred, target)"
   ]
  },
  {
   "cell_type": "markdown",
   "metadata": {},
   "source": [
    "Let's use a gridsearch to figure out the best setting for the model parameter - how to figure out how many appropriate neighbours?"
   ]
  },
  {
   "cell_type": "code",
   "execution_count": 38,
   "metadata": {},
   "outputs": [
    {
     "data": {
      "text/plain": [
       "{'memory': None,\n",
       " 'steps': [('scale', StandardScaler()),\n",
       "  ('model', KNeighborsRegressor(n_neighbors=1))],\n",
       " 'verbose': False,\n",
       " 'scale': StandardScaler(),\n",
       " 'model': KNeighborsRegressor(n_neighbors=1),\n",
       " 'scale__copy': True,\n",
       " 'scale__with_mean': True,\n",
       " 'scale__with_std': True,\n",
       " 'model__algorithm': 'auto',\n",
       " 'model__leaf_size': 30,\n",
       " 'model__metric': 'minkowski',\n",
       " 'model__metric_params': None,\n",
       " 'model__n_jobs': None,\n",
       " 'model__n_neighbors': 1,\n",
       " 'model__p': 2,\n",
       " 'model__weights': 'uniform'}"
      ]
     },
     "execution_count": 38,
     "metadata": {},
     "output_type": "execute_result"
    }
   ],
   "source": [
    "pipe.get_params()"
   ]
  },
  {
   "cell_type": "code",
   "execution_count": 39,
   "metadata": {},
   "outputs": [
    {
     "name": "stderr",
     "output_type": "stream",
     "text": [
      "c:\\Users\\Amirah\\Python_Projects\\scikit-learn\\.venv\\Lib\\site-packages\\numpy\\ma\\core.py:2846: RuntimeWarning: invalid value encountered in cast\n",
      "  _data = np.array(data, dtype=dtype, copy=copy,\n"
     ]
    },
    {
     "data": {
      "text/html": [
       "<div>\n",
       "<style scoped>\n",
       "    .dataframe tbody tr th:only-of-type {\n",
       "        vertical-align: middle;\n",
       "    }\n",
       "\n",
       "    .dataframe tbody tr th {\n",
       "        vertical-align: top;\n",
       "    }\n",
       "\n",
       "    .dataframe thead th {\n",
       "        text-align: right;\n",
       "    }\n",
       "</style>\n",
       "<table border=\"1\" class=\"dataframe\">\n",
       "  <thead>\n",
       "    <tr style=\"text-align: right;\">\n",
       "      <th></th>\n",
       "      <th>mean_fit_time</th>\n",
       "      <th>std_fit_time</th>\n",
       "      <th>mean_score_time</th>\n",
       "      <th>std_score_time</th>\n",
       "      <th>param_model__n_neighbors</th>\n",
       "      <th>params</th>\n",
       "      <th>split0_test_score</th>\n",
       "      <th>split1_test_score</th>\n",
       "      <th>split2_test_score</th>\n",
       "      <th>mean_test_score</th>\n",
       "      <th>std_test_score</th>\n",
       "      <th>rank_test_score</th>\n",
       "    </tr>\n",
       "  </thead>\n",
       "  <tbody>\n",
       "    <tr>\n",
       "      <th>0</th>\n",
       "      <td>0.003185</td>\n",
       "      <td>7.326343e-04</td>\n",
       "      <td>0.004752</td>\n",
       "      <td>0.000781</td>\n",
       "      <td>1</td>\n",
       "      <td>{'model__n_neighbors': 1}</td>\n",
       "      <td>0.226933</td>\n",
       "      <td>0.432998</td>\n",
       "      <td>0.127635</td>\n",
       "      <td>0.262522</td>\n",
       "      <td>0.127179</td>\n",
       "      <td>10</td>\n",
       "    </tr>\n",
       "    <tr>\n",
       "      <th>1</th>\n",
       "      <td>0.003484</td>\n",
       "      <td>6.618974e-04</td>\n",
       "      <td>0.008444</td>\n",
       "      <td>0.003301</td>\n",
       "      <td>2</td>\n",
       "      <td>{'model__n_neighbors': 2}</td>\n",
       "      <td>0.358216</td>\n",
       "      <td>0.409229</td>\n",
       "      <td>0.172294</td>\n",
       "      <td>0.313246</td>\n",
       "      <td>0.101821</td>\n",
       "      <td>9</td>\n",
       "    </tr>\n",
       "    <tr>\n",
       "      <th>2</th>\n",
       "      <td>0.002926</td>\n",
       "      <td>1.615853e-03</td>\n",
       "      <td>0.006117</td>\n",
       "      <td>0.002558</td>\n",
       "      <td>3</td>\n",
       "      <td>{'model__n_neighbors': 3}</td>\n",
       "      <td>0.413515</td>\n",
       "      <td>0.476651</td>\n",
       "      <td>0.318534</td>\n",
       "      <td>0.402900</td>\n",
       "      <td>0.064986</td>\n",
       "      <td>1</td>\n",
       "    </tr>\n",
       "    <tr>\n",
       "      <th>3</th>\n",
       "      <td>0.001711</td>\n",
       "      <td>2.438936e-04</td>\n",
       "      <td>0.004334</td>\n",
       "      <td>0.002880</td>\n",
       "      <td>4</td>\n",
       "      <td>{'model__n_neighbors': 4}</td>\n",
       "      <td>0.475349</td>\n",
       "      <td>0.402495</td>\n",
       "      <td>0.273014</td>\n",
       "      <td>0.383619</td>\n",
       "      <td>0.083675</td>\n",
       "      <td>7</td>\n",
       "    </tr>\n",
       "    <tr>\n",
       "      <th>4</th>\n",
       "      <td>0.003108</td>\n",
       "      <td>1.141538e-03</td>\n",
       "      <td>0.006390</td>\n",
       "      <td>0.001270</td>\n",
       "      <td>5</td>\n",
       "      <td>{'model__n_neighbors': 5}</td>\n",
       "      <td>0.512318</td>\n",
       "      <td>0.347951</td>\n",
       "      <td>0.262590</td>\n",
       "      <td>0.374286</td>\n",
       "      <td>0.103638</td>\n",
       "      <td>8</td>\n",
       "    </tr>\n",
       "    <tr>\n",
       "      <th>5</th>\n",
       "      <td>0.002060</td>\n",
       "      <td>4.246717e-04</td>\n",
       "      <td>0.003675</td>\n",
       "      <td>0.001953</td>\n",
       "      <td>6</td>\n",
       "      <td>{'model__n_neighbors': 6}</td>\n",
       "      <td>0.533611</td>\n",
       "      <td>0.389504</td>\n",
       "      <td>0.248482</td>\n",
       "      <td>0.390532</td>\n",
       "      <td>0.116406</td>\n",
       "      <td>6</td>\n",
       "    </tr>\n",
       "    <tr>\n",
       "      <th>6</th>\n",
       "      <td>0.001891</td>\n",
       "      <td>5.099564e-04</td>\n",
       "      <td>0.003106</td>\n",
       "      <td>0.000790</td>\n",
       "      <td>7</td>\n",
       "      <td>{'model__n_neighbors': 7}</td>\n",
       "      <td>0.544782</td>\n",
       "      <td>0.385199</td>\n",
       "      <td>0.243668</td>\n",
       "      <td>0.391216</td>\n",
       "      <td>0.123003</td>\n",
       "      <td>5</td>\n",
       "    </tr>\n",
       "    <tr>\n",
       "      <th>7</th>\n",
       "      <td>0.001711</td>\n",
       "      <td>6.531388e-04</td>\n",
       "      <td>0.003261</td>\n",
       "      <td>0.000664</td>\n",
       "      <td>8</td>\n",
       "      <td>{'model__n_neighbors': 8}</td>\n",
       "      <td>0.589644</td>\n",
       "      <td>0.394650</td>\n",
       "      <td>0.209714</td>\n",
       "      <td>0.398003</td>\n",
       "      <td>0.155124</td>\n",
       "      <td>2</td>\n",
       "    </tr>\n",
       "    <tr>\n",
       "      <th>8</th>\n",
       "      <td>0.001714</td>\n",
       "      <td>4.921094e-04</td>\n",
       "      <td>0.002931</td>\n",
       "      <td>0.000513</td>\n",
       "      <td>9</td>\n",
       "      <td>{'model__n_neighbors': 9}</td>\n",
       "      <td>0.590352</td>\n",
       "      <td>0.407556</td>\n",
       "      <td>0.185253</td>\n",
       "      <td>0.394387</td>\n",
       "      <td>0.165643</td>\n",
       "      <td>3</td>\n",
       "    </tr>\n",
       "    <tr>\n",
       "      <th>9</th>\n",
       "      <td>0.001541</td>\n",
       "      <td>4.899036e-07</td>\n",
       "      <td>0.002740</td>\n",
       "      <td>0.000246</td>\n",
       "      <td>10</td>\n",
       "      <td>{'model__n_neighbors': 10}</td>\n",
       "      <td>0.616510</td>\n",
       "      <td>0.395077</td>\n",
       "      <td>0.164023</td>\n",
       "      <td>0.391870</td>\n",
       "      <td>0.184741</td>\n",
       "      <td>4</td>\n",
       "    </tr>\n",
       "  </tbody>\n",
       "</table>\n",
       "</div>"
      ],
      "text/plain": [
       "   mean_fit_time  std_fit_time  mean_score_time  std_score_time  \\\n",
       "0       0.003185  7.326343e-04         0.004752        0.000781   \n",
       "1       0.003484  6.618974e-04         0.008444        0.003301   \n",
       "2       0.002926  1.615853e-03         0.006117        0.002558   \n",
       "3       0.001711  2.438936e-04         0.004334        0.002880   \n",
       "4       0.003108  1.141538e-03         0.006390        0.001270   \n",
       "5       0.002060  4.246717e-04         0.003675        0.001953   \n",
       "6       0.001891  5.099564e-04         0.003106        0.000790   \n",
       "7       0.001711  6.531388e-04         0.003261        0.000664   \n",
       "8       0.001714  4.921094e-04         0.002931        0.000513   \n",
       "9       0.001541  4.899036e-07         0.002740        0.000246   \n",
       "\n",
       "   param_model__n_neighbors                      params  split0_test_score  \\\n",
       "0                         1   {'model__n_neighbors': 1}           0.226933   \n",
       "1                         2   {'model__n_neighbors': 2}           0.358216   \n",
       "2                         3   {'model__n_neighbors': 3}           0.413515   \n",
       "3                         4   {'model__n_neighbors': 4}           0.475349   \n",
       "4                         5   {'model__n_neighbors': 5}           0.512318   \n",
       "5                         6   {'model__n_neighbors': 6}           0.533611   \n",
       "6                         7   {'model__n_neighbors': 7}           0.544782   \n",
       "7                         8   {'model__n_neighbors': 8}           0.589644   \n",
       "8                         9   {'model__n_neighbors': 9}           0.590352   \n",
       "9                        10  {'model__n_neighbors': 10}           0.616510   \n",
       "\n",
       "   split1_test_score  split2_test_score  mean_test_score  std_test_score  \\\n",
       "0           0.432998           0.127635         0.262522        0.127179   \n",
       "1           0.409229           0.172294         0.313246        0.101821   \n",
       "2           0.476651           0.318534         0.402900        0.064986   \n",
       "3           0.402495           0.273014         0.383619        0.083675   \n",
       "4           0.347951           0.262590         0.374286        0.103638   \n",
       "5           0.389504           0.248482         0.390532        0.116406   \n",
       "6           0.385199           0.243668         0.391216        0.123003   \n",
       "7           0.394650           0.209714         0.398003        0.155124   \n",
       "8           0.407556           0.185253         0.394387        0.165643   \n",
       "9           0.395077           0.164023         0.391870        0.184741   \n",
       "\n",
       "   rank_test_score  \n",
       "0               10  \n",
       "1                9  \n",
       "2                1  \n",
       "3                7  \n",
       "4                8  \n",
       "5                6  \n",
       "6                5  \n",
       "7                2  \n",
       "8                3  \n",
       "9                4  "
      ]
     },
     "execution_count": 39,
     "metadata": {},
     "output_type": "execute_result"
    }
   ],
   "source": [
    "from sklearn.preprocessing import StandardScaler\n",
    "from sklearn.pipeline import Pipeline\n",
    "from sklearn.model_selection import GridSearchCV\n",
    "import pandas as pred\n",
    "\n",
    "pipe = Pipeline([\n",
    "    (\"scale\", StandardScaler()),\n",
    "    (\"model\", KNeighborsRegressor(n_neighbors=1))\n",
    "])\n",
    "\n",
    "mod = GridSearchCV(\n",
    "    estimator=pipe,\n",
    "    param_grid= {\n",
    "        'model__n_neighbors': [1,2,3,4,5,6,7,8,9,10]\n",
    "    },\n",
    "    cv=3\n",
    ")\n",
    "\n",
    "mod.fit(data, target)\n",
    "pd.DataFrame(mod.cv_results_)"
   ]
  }
 ],
 "metadata": {
  "kernelspec": {
   "display_name": ".venv",
   "language": "python",
   "name": "python3"
  },
  "language_info": {
   "codemirror_mode": {
    "name": "ipython",
    "version": 3
   },
   "file_extension": ".py",
   "mimetype": "text/x-python",
   "name": "python",
   "nbconvert_exporter": "python",
   "pygments_lexer": "ipython3",
   "version": "3.12.3"
  }
 },
 "nbformat": 4,
 "nbformat_minor": 2
}
